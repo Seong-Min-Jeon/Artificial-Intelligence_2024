{
 "cells": [
  {
   "cell_type": "code",
   "execution_count": 12,
   "id": "eb24abab-c4fc-4956-a0d2-694e2fb783e8",
   "metadata": {
    "execution": {
     "iopub.execute_input": "2024-11-13T11:11:01.355307Z",
     "iopub.status.busy": "2024-11-13T11:11:01.354032Z",
     "iopub.status.idle": "2024-11-13T11:11:01.411491Z",
     "shell.execute_reply": "2024-11-13T11:11:01.411491Z",
     "shell.execute_reply.started": "2024-11-13T11:11:01.355307Z"
    }
   },
   "outputs": [],
   "source": [
    "import numpy as np\n",
    "import pandas as pd\n",
    "import matplotlib.pyplot as plt\n",
    "import seaborn as sns\n",
    "\n",
    "train=pd.read_csv('train.csv')\n",
    "test=pd.read_csv('test.csv')"
   ]
  },
  {
   "cell_type": "code",
   "execution_count": 14,
   "id": "d3acef8a-b9c6-4ebb-809a-203e6961af31",
   "metadata": {
    "execution": {
     "iopub.execute_input": "2024-11-13T11:11:01.470363Z",
     "iopub.status.busy": "2024-11-13T11:11:01.470363Z",
     "iopub.status.idle": "2024-11-13T11:11:01.534330Z",
     "shell.execute_reply": "2024-11-13T11:11:01.534330Z",
     "shell.execute_reply.started": "2024-11-13T11:11:01.470363Z"
    }
   },
   "outputs": [
    {
     "data": {
      "text/html": [
       "<div>\n",
       "<style scoped>\n",
       "    .dataframe tbody tr th:only-of-type {\n",
       "        vertical-align: middle;\n",
       "    }\n",
       "\n",
       "    .dataframe tbody tr th {\n",
       "        vertical-align: top;\n",
       "    }\n",
       "\n",
       "    .dataframe thead th {\n",
       "        text-align: right;\n",
       "    }\n",
       "</style>\n",
       "<table border=\"1\" class=\"dataframe\">\n",
       "  <thead>\n",
       "    <tr style=\"text-align: right;\">\n",
       "      <th></th>\n",
       "      <th>PassengerId</th>\n",
       "      <th>Survived</th>\n",
       "      <th>Pclass</th>\n",
       "      <th>Name</th>\n",
       "      <th>Sex</th>\n",
       "      <th>Age</th>\n",
       "      <th>SibSp</th>\n",
       "      <th>Parch</th>\n",
       "      <th>Ticket</th>\n",
       "      <th>Fare</th>\n",
       "      <th>Cabin</th>\n",
       "      <th>Embarked</th>\n",
       "    </tr>\n",
       "  </thead>\n",
       "  <tbody>\n",
       "    <tr>\n",
       "      <th>0</th>\n",
       "      <td>1</td>\n",
       "      <td>0</td>\n",
       "      <td>3</td>\n",
       "      <td>Braund, Mr. Owen Harris</td>\n",
       "      <td>male</td>\n",
       "      <td>22.0</td>\n",
       "      <td>1</td>\n",
       "      <td>0</td>\n",
       "      <td>A/5 21171</td>\n",
       "      <td>7.2500</td>\n",
       "      <td>NaN</td>\n",
       "      <td>S</td>\n",
       "    </tr>\n",
       "    <tr>\n",
       "      <th>1</th>\n",
       "      <td>2</td>\n",
       "      <td>1</td>\n",
       "      <td>1</td>\n",
       "      <td>Cumings, Mrs. John Bradley (Florence Briggs Th...</td>\n",
       "      <td>female</td>\n",
       "      <td>38.0</td>\n",
       "      <td>1</td>\n",
       "      <td>0</td>\n",
       "      <td>PC 17599</td>\n",
       "      <td>71.2833</td>\n",
       "      <td>C85</td>\n",
       "      <td>C</td>\n",
       "    </tr>\n",
       "    <tr>\n",
       "      <th>2</th>\n",
       "      <td>3</td>\n",
       "      <td>1</td>\n",
       "      <td>3</td>\n",
       "      <td>Heikkinen, Miss. Laina</td>\n",
       "      <td>female</td>\n",
       "      <td>26.0</td>\n",
       "      <td>0</td>\n",
       "      <td>0</td>\n",
       "      <td>STON/O2. 3101282</td>\n",
       "      <td>7.9250</td>\n",
       "      <td>NaN</td>\n",
       "      <td>S</td>\n",
       "    </tr>\n",
       "    <tr>\n",
       "      <th>3</th>\n",
       "      <td>4</td>\n",
       "      <td>1</td>\n",
       "      <td>1</td>\n",
       "      <td>Futrelle, Mrs. Jacques Heath (Lily May Peel)</td>\n",
       "      <td>female</td>\n",
       "      <td>35.0</td>\n",
       "      <td>1</td>\n",
       "      <td>0</td>\n",
       "      <td>113803</td>\n",
       "      <td>53.1000</td>\n",
       "      <td>C123</td>\n",
       "      <td>S</td>\n",
       "    </tr>\n",
       "    <tr>\n",
       "      <th>4</th>\n",
       "      <td>5</td>\n",
       "      <td>0</td>\n",
       "      <td>3</td>\n",
       "      <td>Allen, Mr. William Henry</td>\n",
       "      <td>male</td>\n",
       "      <td>35.0</td>\n",
       "      <td>0</td>\n",
       "      <td>0</td>\n",
       "      <td>373450</td>\n",
       "      <td>8.0500</td>\n",
       "      <td>NaN</td>\n",
       "      <td>S</td>\n",
       "    </tr>\n",
       "  </tbody>\n",
       "</table>\n",
       "</div>"
      ],
      "text/plain": [
       "   PassengerId  Survived  Pclass  \\\n",
       "0            1         0       3   \n",
       "1            2         1       1   \n",
       "2            3         1       3   \n",
       "3            4         1       1   \n",
       "4            5         0       3   \n",
       "\n",
       "                                                Name     Sex   Age  SibSp  \\\n",
       "0                            Braund, Mr. Owen Harris    male  22.0      1   \n",
       "1  Cumings, Mrs. John Bradley (Florence Briggs Th...  female  38.0      1   \n",
       "2                             Heikkinen, Miss. Laina  female  26.0      0   \n",
       "3       Futrelle, Mrs. Jacques Heath (Lily May Peel)  female  35.0      1   \n",
       "4                           Allen, Mr. William Henry    male  35.0      0   \n",
       "\n",
       "   Parch            Ticket     Fare Cabin Embarked  \n",
       "0      0         A/5 21171   7.2500   NaN        S  \n",
       "1      0          PC 17599  71.2833   C85        C  \n",
       "2      0  STON/O2. 3101282   7.9250   NaN        S  \n",
       "3      0            113803  53.1000  C123        S  \n",
       "4      0            373450   8.0500   NaN        S  "
      ]
     },
     "execution_count": 14,
     "metadata": {},
     "output_type": "execute_result"
    }
   ],
   "source": [
    "# (a)\n",
    "train.head()"
   ]
  },
  {
   "cell_type": "code",
   "execution_count": 13,
   "id": "aa4f6f1c-a4eb-4606-a3fc-00bc146cd2b1",
   "metadata": {
    "execution": {
     "iopub.execute_input": "2024-11-13T11:11:01.419213Z",
     "iopub.status.busy": "2024-11-13T11:11:01.411491Z",
     "iopub.status.idle": "2024-11-13T11:11:01.461900Z",
     "shell.execute_reply": "2024-11-13T11:11:01.460718Z",
     "shell.execute_reply.started": "2024-11-13T11:11:01.419213Z"
    }
   },
   "outputs": [
    {
     "name": "stdout",
     "output_type": "stream",
     "text": [
      "<class 'pandas.core.frame.DataFrame'>\n",
      "RangeIndex: 799 entries, 0 to 798\n",
      "Data columns (total 12 columns):\n",
      " #   Column       Non-Null Count  Dtype  \n",
      "---  ------       --------------  -----  \n",
      " 0   PassengerId  799 non-null    int64  \n",
      " 1   Survived     799 non-null    int64  \n",
      " 2   Pclass       799 non-null    int64  \n",
      " 3   Name         799 non-null    object \n",
      " 4   Sex          799 non-null    object \n",
      " 5   Age          636 non-null    float64\n",
      " 6   SibSp        799 non-null    int64  \n",
      " 7   Parch        799 non-null    int64  \n",
      " 8   Ticket       799 non-null    object \n",
      " 9   Fare         799 non-null    float64\n",
      " 10  Cabin        185 non-null    object \n",
      " 11  Embarked     798 non-null    object \n",
      "dtypes: float64(2), int64(5), object(5)\n",
      "memory usage: 75.0+ KB\n"
     ]
    }
   ],
   "source": [
    "train.info()"
   ]
  },
  {
   "cell_type": "code",
   "execution_count": 18,
   "id": "e53c6f42-069f-4aa6-87d8-157692bd25ec",
   "metadata": {
    "execution": {
     "iopub.execute_input": "2024-11-13T11:11:13.172936Z",
     "iopub.status.busy": "2024-11-13T11:11:13.169840Z",
     "iopub.status.idle": "2024-11-13T11:11:13.198198Z",
     "shell.execute_reply": "2024-11-13T11:11:13.196982Z",
     "shell.execute_reply.started": "2024-11-13T11:11:13.172936Z"
    }
   },
   "outputs": [
    {
     "data": {
      "text/plain": [
       "PassengerId      0\n",
       "Survived         0\n",
       "Pclass           0\n",
       "Name             0\n",
       "Sex              0\n",
       "Age            163\n",
       "SibSp            0\n",
       "Parch            0\n",
       "Ticket           0\n",
       "Fare             0\n",
       "Cabin          614\n",
       "Embarked         1\n",
       "dtype: int64"
      ]
     },
     "execution_count": 18,
     "metadata": {},
     "output_type": "execute_result"
    }
   ],
   "source": [
    "train.isnull().sum()"
   ]
  },
  {
   "cell_type": "code",
   "execution_count": 381,
   "id": "43fa7902-5a77-458f-a18e-9a6ffbb141e3",
   "metadata": {
    "execution": {
     "iopub.execute_input": "2024-11-13T15:03:07.549196Z",
     "iopub.status.busy": "2024-11-13T15:03:07.549196Z",
     "iopub.status.idle": "2024-11-13T15:03:07.572774Z",
     "shell.execute_reply": "2024-11-13T15:03:07.569847Z",
     "shell.execute_reply.started": "2024-11-13T15:03:07.549196Z"
    }
   },
   "outputs": [
    {
     "data": {
      "text/plain": [
       "PassengerId     0\n",
       "Pclass          0\n",
       "Name            0\n",
       "Sex             0\n",
       "Age            14\n",
       "SibSp           0\n",
       "Parch           0\n",
       "Ticket          0\n",
       "Fare            0\n",
       "Cabin          73\n",
       "Embarked        1\n",
       "dtype: int64"
      ]
     },
     "execution_count": 381,
     "metadata": {},
     "output_type": "execute_result"
    }
   ],
   "source": [
    "test.isnull().sum()"
   ]
  },
  {
   "cell_type": "code",
   "execution_count": 164,
   "id": "9bb8aa76-22c9-42f9-86a1-e61d6430a7dc",
   "metadata": {
    "execution": {
     "iopub.execute_input": "2024-11-13T12:05:59.343236Z",
     "iopub.status.busy": "2024-11-13T12:05:59.343236Z",
     "iopub.status.idle": "2024-11-13T12:05:59.358118Z",
     "shell.execute_reply": "2024-11-13T12:05:59.358118Z",
     "shell.execute_reply.started": "2024-11-13T12:05:59.343236Z"
    }
   },
   "outputs": [
    {
     "name": "stdout",
     "output_type": "stream",
     "text": [
      "Survived attribute의 값 종류\n",
      "[0 1]\n"
     ]
    }
   ],
   "source": [
    "print('Survived attribute의 값 종류')\n",
    "print(train['Survived'].unique())"
   ]
  },
  {
   "cell_type": "code",
   "execution_count": 166,
   "id": "3228ddd7-57cd-4388-bcda-8a46dfe06a3f",
   "metadata": {
    "execution": {
     "iopub.execute_input": "2024-11-13T12:05:59.617437Z",
     "iopub.status.busy": "2024-11-13T12:05:59.610929Z",
     "iopub.status.idle": "2024-11-13T12:05:59.642223Z",
     "shell.execute_reply": "2024-11-13T12:05:59.640708Z",
     "shell.execute_reply.started": "2024-11-13T12:05:59.617437Z"
    }
   },
   "outputs": [
    {
     "name": "stdout",
     "output_type": "stream",
     "text": [
      "Pclass attribute의 값 종류\n",
      "[3 1 2]\n"
     ]
    }
   ],
   "source": [
    "print('Pclass attribute의 값 종류')\n",
    "print(train['Pclass'].unique())"
   ]
  },
  {
   "cell_type": "code",
   "execution_count": 168,
   "id": "7531f80b-c24c-4c5f-8cc8-0cb721f2e83e",
   "metadata": {
    "execution": {
     "iopub.execute_input": "2024-11-13T12:05:59.928236Z",
     "iopub.status.busy": "2024-11-13T12:05:59.920228Z",
     "iopub.status.idle": "2024-11-13T12:05:59.944290Z",
     "shell.execute_reply": "2024-11-13T12:05:59.944290Z",
     "shell.execute_reply.started": "2024-11-13T12:05:59.928236Z"
    }
   },
   "outputs": [
    {
     "name": "stdout",
     "output_type": "stream",
     "text": [
      "Sex attribute의 값 종류\n",
      "['male' 'female']\n"
     ]
    }
   ],
   "source": [
    "print('Sex attribute의 값 종류')\n",
    "print(train['Sex'].unique())"
   ]
  },
  {
   "cell_type": "code",
   "execution_count": 170,
   "id": "2d3312ed-4e0b-489b-8b58-e91b3db07153",
   "metadata": {
    "execution": {
     "iopub.execute_input": "2024-11-13T12:06:00.214930Z",
     "iopub.status.busy": "2024-11-13T12:06:00.213886Z",
     "iopub.status.idle": "2024-11-13T12:06:00.238555Z",
     "shell.execute_reply": "2024-11-13T12:06:00.236938Z",
     "shell.execute_reply.started": "2024-11-13T12:06:00.214930Z"
    }
   },
   "outputs": [
    {
     "name": "stdout",
     "output_type": "stream",
     "text": [
      "Age attribute의 값 종류\n",
      "[22.   38.   26.   35.     nan 54.    2.   27.   14.    4.   58.   20.\n",
      " 39.   55.   31.   34.   15.   28.    8.   19.   40.   66.   42.   21.\n",
      " 18.    3.    7.   49.   29.   65.   28.5   5.   11.   45.   17.   32.\n",
      " 16.   25.    0.83 30.   33.   23.   24.   46.   59.   71.   37.   47.\n",
      " 14.5  70.5  32.5  12.    9.   36.5  51.   55.5  40.5  44.    1.   61.\n",
      " 56.   50.   36.   45.5  20.5  62.   41.   52.   63.   23.5   0.92 43.\n",
      " 60.   10.   64.   13.   48.    0.75 53.   57.   80.   70.   24.5   6.\n",
      "  0.67 30.5 ]\n"
     ]
    }
   ],
   "source": [
    "print('Age attribute의 값 종류')\n",
    "print(train['Age'].unique())"
   ]
  },
  {
   "cell_type": "code",
   "execution_count": 172,
   "id": "a8bba5b6-d80e-4cd1-b7d7-4b2ae40329f3",
   "metadata": {
    "execution": {
     "iopub.execute_input": "2024-11-13T12:06:00.529805Z",
     "iopub.status.busy": "2024-11-13T12:06:00.529805Z",
     "iopub.status.idle": "2024-11-13T12:06:00.553811Z",
     "shell.execute_reply": "2024-11-13T12:06:00.553811Z",
     "shell.execute_reply.started": "2024-11-13T12:06:00.529805Z"
    }
   },
   "outputs": [
    {
     "name": "stdout",
     "output_type": "stream",
     "text": [
      "SibSp attribute의 값 종류\n",
      "[1 0 3 4 2 5 8]\n"
     ]
    }
   ],
   "source": [
    "print('SibSp attribute의 값 종류')\n",
    "print(train['SibSp'].unique())"
   ]
  },
  {
   "cell_type": "code",
   "execution_count": 174,
   "id": "007fc936-1606-4cc8-808d-e1e65adfb5ae",
   "metadata": {
    "execution": {
     "iopub.execute_input": "2024-11-13T12:06:00.892899Z",
     "iopub.status.busy": "2024-11-13T12:06:00.892899Z",
     "iopub.status.idle": "2024-11-13T12:06:00.906521Z",
     "shell.execute_reply": "2024-11-13T12:06:00.906521Z",
     "shell.execute_reply.started": "2024-11-13T12:06:00.892899Z"
    }
   },
   "outputs": [
    {
     "name": "stdout",
     "output_type": "stream",
     "text": [
      "Parch attribute의 값 종류\n",
      "[0 1 2 5 3 4 6]\n"
     ]
    }
   ],
   "source": [
    "print('Parch attribute의 값 종류')\n",
    "print(train['Parch'].unique())"
   ]
  },
  {
   "cell_type": "code",
   "execution_count": 232,
   "id": "9eeb6059-4cdd-40e5-9fd6-8298eab75f46",
   "metadata": {
    "execution": {
     "iopub.execute_input": "2024-11-13T13:54:44.747290Z",
     "iopub.status.busy": "2024-11-13T13:54:44.747290Z",
     "iopub.status.idle": "2024-11-13T13:54:44.783823Z",
     "shell.execute_reply": "2024-11-13T13:54:44.783823Z",
     "shell.execute_reply.started": "2024-11-13T13:54:44.747290Z"
    }
   },
   "outputs": [
    {
     "name": "stdout",
     "output_type": "stream",
     "text": [
      "Ticket attribute의 값 종류\n",
      "['A/5 21171' 'PC 17599' 'STON/O2. 3101282' '113803' '373450' '330877'\n",
      " '17463' '349909' '347742' '237736' 'PP 9549' '113783' 'A/5. 2151'\n",
      " '347082' '350406' '248706' '382652' '244373' '345763' '2649' '239865'\n",
      " '248698' '330923' '113788' '347077' '2631' '19950' '330959' '349216'\n",
      " 'PC 17601' 'PC 17569' '335677' 'C.A. 24579' 'PC 17604' '113789' '2677'\n",
      " 'A./5. 2152' '345764' '2651' '7546' '11668' '349253' 'SC/Paris 2123'\n",
      " '330958' 'S.C./A.4. 23567' '370371' '14311' '2662' '349237' '3101295'\n",
      " 'A/4. 39886' 'PC 17572' '2926' '113509' '19947' 'C.A. 31026' '2697'\n",
      " 'C.A. 34651' 'CA 2144' '2669' '113572' '36973' '347088' 'PC 17605' '2661'\n",
      " 'C.A. 29395' 'S.P. 3464' '3101281' '315151' 'C.A. 33111' 'S.O.C. 14879'\n",
      " '2680' '1601' '348123' '349208' '374746' '248738' '364516' '345767'\n",
      " '345779' '330932' '113059' 'SO/C 14885' '3101278' 'W./C. 6608'\n",
      " 'SOTON/OQ 392086' '343275' '343276' '347466' 'W.E.P. 5734' 'C.A. 2315'\n",
      " '364500' '374910' 'PC 17754' 'PC 17759' '231919' '244367' '349245'\n",
      " '349215' '35281' '7540' '3101276' '349207' '343120' '312991' '349249'\n",
      " '371110' '110465' '2665' '324669' '4136' '2627' 'STON/O 2. 3101294'\n",
      " '370369' 'PC 17558' 'A4. 54510' '27267' '370372' 'C 17369' '2668'\n",
      " '347061' '349241' 'SOTON/O.Q. 3101307' 'A/5. 3337' '228414' 'C.A. 29178'\n",
      " 'SC/PARIS 2133' '11752' '7534' 'PC 17593' '2678' '347081'\n",
      " 'STON/O2. 3101279' '365222' '231945' 'C.A. 33112' '350043' '230080'\n",
      " '244310' 'S.O.P. 1166' '113776' 'A.5. 11206' 'A/5. 851' 'Fa 265302'\n",
      " 'PC 17597' '35851' 'SOTON/OQ 392090' '315037' 'CA. 2343' '371362'\n",
      " 'C.A. 33595' '347068' '315093' '363291' '113505' 'PC 17318' '111240'\n",
      " 'STON/O 2. 3101280' '17764' '350404' '4133' 'PC 17595' '250653' 'LINE'\n",
      " 'SC/PARIS 2131' '230136' '315153' '113767' '370365' '111428' '364849'\n",
      " '349247' '234604' '28424' '350046' 'PC 17610' '368703' '4579' '370370'\n",
      " '248747' '345770' '3101264' '2628' 'A/5 3540' '347054' '2699' '367231'\n",
      " '112277' 'SOTON/O.Q. 3101311' 'F.C.C. 13528' 'A/5 21174' '250646'\n",
      " '367229' '35273' 'STON/O2. 3101283' '243847' '11813' 'W/C 14208'\n",
      " 'SOTON/OQ 392089' '220367' '21440' '349234' '19943' 'PP 4348' 'SW/PP 751'\n",
      " 'A/5 21173' '236171' '347067' '237442' 'C.A. 29566' 'W./C. 6609' '26707'\n",
      " 'C.A. 31921' '28665' 'SCO/W 1585' '367230' 'W./C. 14263'\n",
      " 'STON/O 2. 3101275' '2694' '19928' '347071' '250649' '11751' '244252'\n",
      " '362316' '113514' 'A/5. 3336' '370129' '2650' 'PC 17585' '110152'\n",
      " 'PC 17755' '230433' '384461' '110413' '112059' '382649' 'C.A. 17248'\n",
      " '347083' 'PC 17582' 'PC 17760' '113798' '250644' 'PC 17596' '370375'\n",
      " '13502' '347073' '239853' 'C.A. 2673' '336439' '347464' '345778'\n",
      " 'A/5. 10482' '113056' '349239' '345774' '349206' '237798' '370373'\n",
      " '19877' '11967' 'SC/Paris 2163' '349236' '349233' 'PC 17612' '2693'\n",
      " '113781' '19988' '9234' '367226' '226593' 'A/5 2466' '17421' 'PC 17758'\n",
      " 'P/PP 3381' 'PC 17485' '11767' 'PC 17608' '250651' '349243'\n",
      " 'F.C.C. 13529' '347470' '29011' '36928' '16966' 'A/5 21172' '349219'\n",
      " '234818' '345364' '28551' '111361' '113043' 'PC 17611' '349225' '7598'\n",
      " '113784' '248740' '244361' '229236' '248733' '31418' '386525'\n",
      " 'C.A. 37671' '315088' '7267' '113510' '2695' '2647' '345783' '237671'\n",
      " '330931' '330980' 'SC/PARIS 2167' '2691' 'SOTON/O.Q. 3101310' 'C 7076'\n",
      " '110813' '2626' '14313' 'PC 17477' '11765' '3101267' '323951' 'C 7077'\n",
      " '113503' '2648' '347069' 'PC 17757' '2653' 'STON/O 2. 3101293' '349227'\n",
      " '27849' '367655' 'SC 1748' '113760' '350034' '3101277' '350052' '350407'\n",
      " '28403' '244278' '240929' 'STON/O 2. 3101289' '341826' '4137' '315096'\n",
      " '28664' '347064' '29106' '312992' '349222' '394140' 'STON/O 2. 3101269'\n",
      " '343095' '28220' '250652' '28228' '345773' '349254' 'A/5. 13032' '315082'\n",
      " '347080' 'A/4. 34244' '2003' '250655' '364851' 'SOTON/O.Q. 392078'\n",
      " '110564' '376564' 'SC/AH 3085' 'STON/O 2. 3101274' '13507' 'C.A. 18723'\n",
      " '345769' '347076' '230434' '65306' '33638' '113794' '2666' '113786'\n",
      " '65303' '113051' '17453' 'A/5 2817' '349240' '13509' '17464'\n",
      " 'F.C.C. 13531' '371060' '19952' '364506' '111320' '234360' 'A/S 2816'\n",
      " 'SOTON/O.Q. 3101306' '113792' '36209' '323592' '315089' 'SC/AH Basle 541'\n",
      " '7553' '31027' '3460' '350060' '3101298' '239854' 'A/5 3594' '4134'\n",
      " '11771' 'A.5. 18509' '65304' 'SOTON/OQ 3101317' '113787' 'PC 17609'\n",
      " 'A/4 45380' '36947' 'C.A. 6212' '350035' '315086' '364846' '330909'\n",
      " '4135' '26360' '111427' 'C 4001' '382651' 'SOTON/OQ 3101316' 'PC 17473'\n",
      " 'PC 17603' '349209' '36967' 'C.A. 34260' '226875' '349242' '12749'\n",
      " '349252' '2624' '2700' '367232' 'W./C. 14258' 'PC 17483' '3101296'\n",
      " '29104' '2641' '2690' '315084' '113050' 'PC 17761' '364498' '13568'\n",
      " 'WE/P 5735' '2908' '693' 'SC/PARIS 2146' '244358' '330979' '2620'\n",
      " '347085' '113807' '11755' '345572' '372622' '349251' '218629'\n",
      " 'SOTON/OQ 392082' 'SOTON/O.Q. 392087' 'A/4 48871' '349205' '2686'\n",
      " '350417' 'S.W./PP 752' '11769' 'PC 17474' '14312' 'A/4. 20589' '358585'\n",
      " '243880' '2689' 'STON/O 2. 3101286' '237789' '13049' '3411' '237565'\n",
      " '13567' '14973' 'A./5. 3235' 'STON/O 2. 3101273' 'A/5 3902' '364848'\n",
      " 'SC/AH 29037' '248727' '2664' '349214' '113796' '364511' '111426'\n",
      " '349910' '349246' '113804' 'SOTON/O.Q. 3101305' '370377' '364512'\n",
      " '220845' '31028' '2659' '11753' '350029' '54636' '36963' '219533'\n",
      " '349224' '334912' '27042' '347743' '13214' '112052' '237668'\n",
      " 'STON/O 2. 3101292' '350050' '349231' '13213' 'S.O./P.P. 751' 'CA. 2314'\n",
      " '349221' '8475' '330919' '365226' '349223' '29751' '2623' '5727' '349210'\n",
      " 'STON/O 2. 3101285' '234686' '312993' 'A/5 3536' '19996' '29750'\n",
      " 'F.C. 12750' 'C.A. 24580' '244270' '239856' '349912' '342826' '4138'\n",
      " '330935' '6563' '349228' '350036' '24160' '17474' '349256' '2672'\n",
      " '113800' '248731' '363592' '35852' '348121' 'PC 17475' '36864' '350025'\n",
      " '223596' 'PC 17476' 'PC 17482' '113028' '7545' '250647' '348124' '34218'\n",
      " '36568' '347062' '350048' '12233' '250643' '113806' '315094' '36866'\n",
      " '236853' 'STON/O2. 3101271' '239855' '28425' '233639' '349201' '349218'\n",
      " '16988' '376566' 'STON/O 2. 3101288' '250648' '113773' '335097' '29103'\n",
      " '392096' '345780' '349204' '350042' '29108' '363294' 'SOTON/O2 3101272'\n",
      " '2663' '347074' '112379' '364850' '8471' '345781' '350047' 'S.O./P.P. 3'\n",
      " '2674' '29105' '347078' '383121' '36865' '2687' '113501' 'W./C. 6607'\n",
      " 'SOTON/O.Q. 3101312' '374887' '3101265' '12460' 'PC 17600' '349203'\n",
      " '28213' '17465' '349244' '2685']\n",
      "\n",
      "Ticket attribute의 값 종류의 개수\n",
      "625\n"
     ]
    }
   ],
   "source": [
    "print('Ticket attribute의 값 종류')\n",
    "print(train['Ticket'].unique())\n",
    "print()\n",
    "print('Ticket attribute의 값 종류의 개수')\n",
    "print(len(train['Ticket'].unique()))"
   ]
  },
  {
   "cell_type": "code",
   "execution_count": 244,
   "id": "06b94a9a-62ce-4515-a8d3-6eebbc17c0a6",
   "metadata": {
    "execution": {
     "iopub.execute_input": "2024-11-13T14:20:34.661873Z",
     "iopub.status.busy": "2024-11-13T14:20:34.661873Z",
     "iopub.status.idle": "2024-11-13T14:20:34.699612Z",
     "shell.execute_reply": "2024-11-13T14:20:34.697945Z",
     "shell.execute_reply.started": "2024-11-13T14:20:34.661873Z"
    }
   },
   "outputs": [
    {
     "name": "stdout",
     "output_type": "stream",
     "text": [
      "Fare attribute의 값 종류\n",
      "[  7.25    71.2833   7.925   53.1      8.05     8.4583  51.8625  21.075\n",
      "  11.1333  30.0708  16.7     26.55    31.275    7.8542  16.      29.125\n",
      "  13.      18.       7.225   26.       8.0292  35.5     31.3875 263.\n",
      "   7.8792   7.8958  27.7208 146.5208   7.75    10.5     82.1708  52.\n",
      "   7.2292  11.2417   9.475   21.      41.5792  15.5     21.6792  17.8\n",
      "  39.6875   7.8     76.7292  61.9792  27.75    46.9     80.      83.475\n",
      "  27.9     15.2458   8.1583   8.6625  73.5     14.4542  56.4958   7.65\n",
      "  29.      12.475    9.       9.5      7.7875  47.1     15.85    34.375\n",
      "  61.175   20.575   34.6542  63.3583  23.      77.2875   8.6542   7.775\n",
      "  24.15     9.825   14.4583 247.5208   7.1417  22.3583   6.975    7.05\n",
      "  14.5     15.0458  26.2833   9.2167  79.2      6.75    11.5     36.75\n",
      "   7.7958  12.525   66.6      7.3125  61.3792   7.7333  69.55    16.1\n",
      "  15.75    20.525   55.      25.925   33.5     30.6958  25.4667  28.7125\n",
      "   0.      15.05    39.      22.025   50.       8.4042   6.4958  10.4625\n",
      "  18.7875  31.     113.275   27.      76.2917  90.       9.35    13.5\n",
      "   7.55    26.25    12.275    7.125   52.5542  20.2125  86.5    512.3292\n",
      "  79.65   153.4625 135.6333  19.5     29.7     77.9583  20.25    78.85\n",
      "  91.0792  12.875    8.85   151.55    30.5     23.25    12.35   110.8833\n",
      " 108.9     24.      56.9292  83.1583 262.375   14.     164.8667 134.5\n",
      "   6.2375  57.9792  28.5    133.65    15.9      9.225   35.      75.25\n",
      "  69.3     55.4417 211.5      4.0125 227.525   15.7417   7.7292  12.\n",
      " 120.      12.65    18.75     6.8583  32.5      7.875   14.4     55.9\n",
      "   8.1125  81.8583  19.2583  19.9667  89.1042  38.5      7.725   13.7917\n",
      "   9.8375   7.0458   7.5208  12.2875   9.5875  49.5042  78.2667  15.1\n",
      "   7.6292  22.525   26.2875  59.4      7.4958  34.0208  93.5    221.7792\n",
      " 106.425   49.5     71.      13.8625   7.8292  39.6     17.4     51.4792\n",
      "  26.3875  30.      40.125    8.7125  15.      33.      42.4     15.55\n",
      "  65.      32.3208   7.0542   8.4333  25.5875   9.8417   8.1375  10.1708\n",
      " 211.3375  57.      13.4167   7.7417   9.4833   7.7375   8.3625  23.45\n",
      "  25.9292   8.6833]\n"
     ]
    }
   ],
   "source": [
    "print('Fare attribute의 값 종류')\n",
    "print(train['Fare'].unique())"
   ]
  },
  {
   "cell_type": "code",
   "execution_count": 267,
   "id": "e2721c07-cad9-457c-8f49-510faae15701",
   "metadata": {
    "execution": {
     "iopub.execute_input": "2024-11-13T14:27:14.837586Z",
     "iopub.status.busy": "2024-11-13T14:27:14.837079Z",
     "iopub.status.idle": "2024-11-13T14:27:14.858713Z",
     "shell.execute_reply": "2024-11-13T14:27:14.855485Z",
     "shell.execute_reply.started": "2024-11-13T14:27:14.837586Z"
    }
   },
   "outputs": [
    {
     "name": "stdout",
     "output_type": "stream",
     "text": [
      "Cabin attribute의 값 종류\n",
      "[nan 'C85' 'C123' 'E46' 'G6' 'C103' 'D56' 'A6' 'C23 C25 C27' 'B78' 'D33'\n",
      " 'B30' 'C52' 'B28' 'C83' 'F33' 'F G73' 'E31' 'A5' 'D10 D12' 'D26' 'C110'\n",
      " 'B58 B60' 'E101' 'F E69' 'D47' 'B86' 'F2' 'C2' 'E33' 'B19' 'A7' 'C49'\n",
      " 'F4' 'A32' 'B4' 'B80' 'A31' 'D36' 'D15' 'C93' 'C78' 'D35' 'C87' 'B77'\n",
      " 'E67' 'B94' 'C125' 'C99' 'C118' 'D7' 'A19' 'B49' 'D' 'C22 C26' 'C106'\n",
      " 'C65' 'E36' 'C54' 'B57 B59 B63 B66' 'C7' 'E34' 'C32' 'B18' 'C124' 'C91'\n",
      " 'E40' 'T' 'C128' 'D37' 'B35' 'E50' 'C82' 'B96 B98' 'E10' 'E44' 'A34'\n",
      " 'C104' 'C111' 'C92' 'E38' 'D21' 'E12' 'E63' 'A14' 'B37' 'C30' 'D20' 'B79'\n",
      " 'E25' 'D46' 'B73' 'C95' 'B38' 'B39' 'B22' 'C86' 'C70' 'A16' 'C101' 'C68'\n",
      " 'A10' 'E68' 'B41' 'A20' 'D19' 'D50' 'D9' 'A23' 'B50' 'A26' 'D48' 'E58'\n",
      " 'C126' 'B71' 'B51 B53 B55' 'D49' 'B5' 'B20' 'F G63' 'C62 C64' 'E24' 'C90'\n",
      " 'C45' 'E8' 'B101' 'D45' 'C46' 'D30' 'E121' 'D11' 'E77' 'F38' 'B3' 'D6'\n",
      " 'B82 B84' 'D17']\n",
      "\n",
      "Cabin attribute의 값 종류의 개수\n",
      "137\n"
     ]
    }
   ],
   "source": [
    "print('Cabin attribute의 값 종류')\n",
    "print(train['Cabin'].unique())\n",
    "print()\n",
    "print('Cabin attribute의 값 종류의 개수')\n",
    "print(len(train['Cabin'].unique()))"
   ]
  },
  {
   "cell_type": "code",
   "execution_count": 182,
   "id": "30b3a88d-0f91-49a7-a152-94ba841c82ec",
   "metadata": {
    "execution": {
     "iopub.execute_input": "2024-11-13T12:06:02.406522Z",
     "iopub.status.busy": "2024-11-13T12:06:02.406522Z",
     "iopub.status.idle": "2024-11-13T12:06:02.432530Z",
     "shell.execute_reply": "2024-11-13T12:06:02.431277Z",
     "shell.execute_reply.started": "2024-11-13T12:06:02.406522Z"
    }
   },
   "outputs": [
    {
     "name": "stdout",
     "output_type": "stream",
     "text": [
      "Embarked attribute의 값 종류\n",
      "['S' 'C' 'Q' nan]\n"
     ]
    }
   ],
   "source": [
    "print('Embarked attribute의 값 종류')\n",
    "print(train['Embarked'].unique())"
   ]
  },
  {
   "cell_type": "code",
   "execution_count": 228,
   "id": "c5e12fa1-b508-4eb6-a507-1b398b94d8ab",
   "metadata": {
    "execution": {
     "iopub.execute_input": "2024-11-13T13:37:17.121889Z",
     "iopub.status.busy": "2024-11-13T13:37:17.121889Z",
     "iopub.status.idle": "2024-11-13T13:37:17.152803Z",
     "shell.execute_reply": "2024-11-13T13:37:17.151222Z",
     "shell.execute_reply.started": "2024-11-13T13:37:17.121889Z"
    }
   },
   "outputs": [
    {
     "name": "stdout",
     "output_type": "stream",
     "text": [
      "Survived\n",
      "0    491\n",
      "1    308\n",
      "Name: count, dtype: int64\n",
      "\n",
      "1명을 뽑았을 때 생존자가 뽑힐 확률: 0.39\n"
     ]
    }
   ],
   "source": [
    "# 생존자의 비율\n",
    "print(train['Survived'].value_counts())\n",
    "print()\n",
    "\n",
    "# 1명을 뽑았을 때 생존자가 뽑힐 확률\n",
    "p=np.round(train[train['Survived']==1]['Survived'].count()/train['Survived'].count(),2)\n",
    "print(f'1명을 뽑았을 때 생존자가 뽑힐 확률: {p}')"
   ]
  },
  {
   "cell_type": "code",
   "execution_count": 184,
   "id": "8db65a0b-7918-4cef-9a11-e298200b4519",
   "metadata": {
    "execution": {
     "iopub.execute_input": "2024-11-13T12:06:03.273991Z",
     "iopub.status.busy": "2024-11-13T12:06:03.265983Z",
     "iopub.status.idle": "2024-11-13T12:06:03.732460Z",
     "shell.execute_reply": "2024-11-13T12:06:03.730671Z",
     "shell.execute_reply.started": "2024-11-13T12:06:03.273991Z"
    }
   },
   "outputs": [
    {
     "data": {
      "image/png": "[encoded data removed]",
      "text/plain": [
       "<Figure size 640x480 with 1 Axes>"
      ]
     },
     "metadata": {},
     "output_type": "display_data"
    }
   ],
   "source": [
    "# Pclass에 따른 생존 비율\n",
    "survived=train[train['Survived']==1].groupby('Pclass')['Survived'].count()\n",
    "df=np.round(survived/train.groupby('Pclass')['Survived'].count(),2).reset_index(name='Survived_Provability')\n",
    "sns.barplot(data=df, x='Pclass', y='Survived_Provability')\n",
    "plt.ylim(0,1)\n",
    "plt.show()"
   ]
  },
  {
   "cell_type": "code",
   "execution_count": 185,
   "id": "e6344d15-533f-4d28-8715-56390fb573de",
   "metadata": {
    "execution": {
     "iopub.execute_input": "2024-11-13T12:06:03.746952Z",
     "iopub.status.busy": "2024-11-13T12:06:03.743600Z",
     "iopub.status.idle": "2024-11-13T12:06:04.058741Z",
     "shell.execute_reply": "2024-11-13T12:06:04.057294Z",
     "shell.execute_reply.started": "2024-11-13T12:06:03.746952Z"
    }
   },
   "outputs": [
    {
     "data": {
      "image/png": "[encoded data removed]",
      "text/plain": [
       "<Figure size 640x480 with 1 Axes>"
      ]
     },
     "metadata": {},
     "output_type": "display_data"
    }
   ],
   "source": [
    "# Sex에 따른 생존 비율\n",
    "survived=train[train['Survived']==1].groupby('Sex')['Survived'].count()\n",
    "df=np.round(survived/train.groupby('Sex')['Survived'].count(),2).reset_index(name='Survived_Provability')\n",
    "sns.barplot(data=df, x='Sex', y='Survived_Provability')\n",
    "plt.ylim(0,1)\n",
    "plt.show()"
   ]
  },
  {
   "cell_type": "code",
   "execution_count": 188,
   "id": "f8b7974e-e5e1-4d78-8d0b-83d706fa22f8",
   "metadata": {
    "execution": {
     "iopub.execute_input": "2024-11-13T12:06:08.292632Z",
     "iopub.status.busy": "2024-11-13T12:06:08.284625Z",
     "iopub.status.idle": "2024-11-13T12:06:09.165204Z",
     "shell.execute_reply": "2024-11-13T12:06:09.165204Z",
     "shell.execute_reply.started": "2024-11-13T12:06:08.292632Z"
    }
   },
   "outputs": [
    {
     "data": {
      "image/png": "[encoded data removed]",
      "text/plain": [
       "<Figure size 640x480 with 1 Axes>"
      ]
     },
     "metadata": {},
     "output_type": "display_data"
    }
   ],
   "source": [
    "# Age에 따른 생존 비율\n",
    "survived=train[train['Survived']==1].groupby('Age')['Survived'].count()\n",
    "df=np.round(survived/train.groupby('Age')['Survived'].count(),2).reset_index(name='Survived_Provability')\n",
    "\n",
    "fig,ax=plt.subplots()\n",
    "sns.barplot(data=df, x='Age', y='Survived_Provability')\n",
    "plt.ylim(0,1)\n",
    "ax.set_xticks(ticks=np.arange(0, 100, 10), labels=np.arange(0, 100, 10))\n",
    "plt.show()"
   ]
  },
  {
   "cell_type": "code",
   "execution_count": 190,
   "id": "966c8735-3bae-4a0e-bf9c-8e0dd27f00e4",
   "metadata": {
    "execution": {
     "iopub.execute_input": "2024-11-13T12:16:14.077676Z",
     "iopub.status.busy": "2024-11-13T12:16:14.077676Z",
     "iopub.status.idle": "2024-11-13T12:16:14.471398Z",
     "shell.execute_reply": "2024-11-13T12:16:14.468629Z",
     "shell.execute_reply.started": "2024-11-13T12:16:14.077676Z"
    }
   },
   "outputs": [
    {
     "data": {
      "image/png": "[encoded data removed]",
      "text/plain": [
       "<Figure size 640x480 with 1 Axes>"
      ]
     },
     "metadata": {},
     "output_type": "display_data"
    }
   ],
   "source": [
    "# SibSp에 따른 생존 비율\n",
    "survived=train[train['Survived']==1].groupby('SibSp')['Survived'].count()\n",
    "df=np.round(survived/train.groupby('SibSp')['Survived'].count(),2).reset_index(name='Survived_Provability')\n",
    "sns.barplot(data=df, x='SibSp', y='Survived_Provability')\n",
    "plt.ylim(0,1)\n",
    "plt.show()"
   ]
  },
  {
   "cell_type": "code",
   "execution_count": 194,
   "id": "64233943-1e29-4599-b4c5-426f37bebb99",
   "metadata": {
    "execution": {
     "iopub.execute_input": "2024-11-13T12:18:58.307913Z",
     "iopub.status.busy": "2024-11-13T12:18:58.306905Z",
     "iopub.status.idle": "2024-11-13T12:18:58.686570Z",
     "shell.execute_reply": "2024-11-13T12:18:58.683739Z",
     "shell.execute_reply.started": "2024-11-13T12:18:58.307913Z"
    }
   },
   "outputs": [
    {
     "data": {
      "image/png": "[encoded data removed]",
      "text/plain": [
       "<Figure size 640x480 with 1 Axes>"
      ]
     },
     "metadata": {},
     "output_type": "display_data"
    }
   ],
   "source": [
    "# Parch에 따른 생존 비율\n",
    "survived=train[train['Survived']==1].groupby('Parch')['Survived'].count()\n",
    "df=np.round(survived/train.groupby('Parch')['Survived'].count(),2).reset_index(name='Survived_Provability')\n",
    "sns.barplot(data=df, x='Parch', y='Survived_Provability')\n",
    "plt.ylim(0,1)\n",
    "plt.show()"
   ]
  },
  {
   "cell_type": "code",
   "execution_count": 262,
   "id": "b2c23d9e-1763-47ee-80a2-86b418dbda3b",
   "metadata": {
    "execution": {
     "iopub.execute_input": "2024-11-13T14:26:00.287056Z",
     "iopub.status.busy": "2024-11-13T14:26:00.287056Z",
     "iopub.status.idle": "2024-11-13T14:26:03.458958Z",
     "shell.execute_reply": "2024-11-13T14:26:03.458958Z",
     "shell.execute_reply.started": "2024-11-13T14:26:00.287056Z"
    }
   },
   "outputs": [
    {
     "data": {
      "image/png": "[encoded data removed]",
      "text/plain": [
       "<Figure size 640x480 with 1 Axes>"
      ]
     },
     "metadata": {},
     "output_type": "display_data"
    }
   ],
   "source": [
    "# Fare에 따른 생존 비율\n",
    "survived=train[train['Survived']==1].groupby('Fare')['Survived'].count()\n",
    "df=np.round(survived/train.groupby('Fare')['Survived'].count(),2).reset_index(name='Survived_Provability')\n",
    "\n",
    "# Fare가 512.3292인 데이터는 시각화되지 않음\n",
    "fig,ax=plt.subplots()\n",
    "sns.barplot(data=df, x='Fare', y='Survived_Provability')\n",
    "plt.ylim(0,1)\n",
    "ax.set_xticks(ticks=np.arange(0, 250, 40), labels=np.arange(0, 250, 40))\n",
    "plt.show()"
   ]
  },
  {
   "cell_type": "code",
   "execution_count": 196,
   "id": "d2aca613-1b9c-4b16-bdc6-73806ff30034",
   "metadata": {
    "execution": {
     "iopub.execute_input": "2024-11-13T12:19:30.914728Z",
     "iopub.status.busy": "2024-11-13T12:19:30.912771Z",
     "iopub.status.idle": "2024-11-13T12:19:31.248265Z",
     "shell.execute_reply": "2024-11-13T12:19:31.248265Z",
     "shell.execute_reply.started": "2024-11-13T12:19:30.914728Z"
    }
   },
   "outputs": [
    {
     "data": {
      "image/png": "[encoded data removed]",
      "text/plain": [
       "<Figure size 640x480 with 1 Axes>"
      ]
     },
     "metadata": {},
     "output_type": "display_data"
    }
   ],
   "source": [
    "# Embarked에 따른 생존 비율\n",
    "survived=train[train['Survived']==1].groupby('Embarked')['Survived'].count()\n",
    "df=np.round(survived/train.groupby('Embarked')['Survived'].count(),2).reset_index(name='Survived_Provability')\n",
    "sns.barplot(data=df, x='Embarked', y='Survived_Provability')\n",
    "plt.ylim(0,1)\n",
    "plt.show()"
   ]
  },
  {
   "cell_type": "code",
   "execution_count": null,
   "id": "2d8abfaa-a587-4e55-be2f-5766025c8478",
   "metadata": {},
   "outputs": [],
   "source": [
    "# (b)\n",
    "\n",
    "# passengerId는 1부터 시작하는 단순한 id 값이므로 생존 결과와는 상관이 없으므로 model에 포함시키지 않습니다.\n",
    "\n",
    "# Pclass는 이상한 값이나 nan이 존재하지 않으며, Survived 분포를 확인할 수 있는 변수이므로 model에 포함시킵니다.\n",
    "\n",
    "# Name은 탑승자의 이름일 뿐이므로 생존 결과와는 상관이 없으므로 model에 포함시키지 않습니다.\n",
    "\n",
    "# Sex는 이상한 값이나 nan이 존재하지 않으며, Survived 분포를 확인할 수 있는 변수이므로 model에 포함시킵니다.\n",
    "# 추가적으로 male을 0, female을 1로 transformation을 합니다.\n",
    "\n",
    "# Age는 Survived 분포를 확인할 수 있는 변수지만 정수가 아닌 값이 존재하고, nan도 있으므로 \n",
    "# transformation을 하고 model에 포함시킵니다.\n",
    "\n",
    "# SibSp는 이상한 값이나 nan이 존재하지 않으며, Survived 분포를 확인할 수 있는 변수이므로 model에 포함시킵니다.\n",
    "\n",
    "# Parch는 이상한 값이나 nan이 존재하지 않으며, Survived 분포를 확인할 수 있는 변수이므로 model에 포함시킵니다.\n",
    "\n",
    "# Ticket은 distinct한 value의 개수가 625개로, 모델이 패턴을 학습할 수 있는 공통적인 정보가 부족할 수 있으므로,\n",
    "# model에 포함시키는 것이 악영향을 미칠 수 있을 것으로 판단됩니다. 따라서 model에 포함시키지 않습니다.\n",
    "\n",
    "# Fare는 0이라는 값을 포함하고 있지만, 탑승을 위한 무료티켓이나 마일리지 탑승이 존재할 수 있으므로 noise는 아니라고\n",
    "# 가정하겠습니다. Fare가 512.3292인 이상치로 보이는 값이 있지만, 해당 Fare를 지불하고 탑승한 인원이 train set에\n",
    "# 3명 존재하며, 그들의 Pclass가 1이므로 512.3292는 존재할 수 있는 수치라고 가정하겠습니다.\n",
    "# 따라서 Fare는 이상한 값이나 nan이 존재하지 않으며, Survived 분포를 확인할 수 있는 변수이므로 model에 포함시킵니다.\n",
    "\n",
    "# Cabin은 distinct한 value의 개수가 137개이며, nan을 가진 sample이 614개이므로 model에 포함시키지 않습니다.\n",
    "\n",
    "# Embarked는 nan이 1개 존재하지만, 이상한 값이 없고 Survived 분포를 확인할 수 있는 변수이므로 \n",
    "# transformation을 하고 model에 포함시킵니다.\n",
    "# 추가적으로 one-hot encoding을 사용해 transformation을 합니다."
   ]
  },
  {
   "cell_type": "code",
   "execution_count": 427,
   "id": "17e3bded-f02d-4881-97ec-3c9000be7f4a",
   "metadata": {
    "execution": {
     "iopub.execute_input": "2024-11-13T15:16:08.959237Z",
     "iopub.status.busy": "2024-11-13T15:16:08.959237Z",
     "iopub.status.idle": "2024-11-13T15:16:09.032248Z",
     "shell.execute_reply": "2024-11-13T15:16:09.029542Z",
     "shell.execute_reply.started": "2024-11-13T15:16:08.959237Z"
    }
   },
   "outputs": [
    {
     "data": {
      "text/html": [
       "<div>\n",
       "<style scoped>\n",
       "    .dataframe tbody tr th:only-of-type {\n",
       "        vertical-align: middle;\n",
       "    }\n",
       "\n",
       "    .dataframe tbody tr th {\n",
       "        vertical-align: top;\n",
       "    }\n",
       "\n",
       "    .dataframe thead th {\n",
       "        text-align: right;\n",
       "    }\n",
       "</style>\n",
       "<table border=\"1\" class=\"dataframe\">\n",
       "  <thead>\n",
       "    <tr style=\"text-align: right;\">\n",
       "      <th></th>\n",
       "      <th>Pclass</th>\n",
       "      <th>Sex</th>\n",
       "      <th>Age</th>\n",
       "      <th>SibSp</th>\n",
       "      <th>Parch</th>\n",
       "      <th>Fare</th>\n",
       "      <th>Embarked</th>\n",
       "      <th>Survived</th>\n",
       "    </tr>\n",
       "  </thead>\n",
       "  <tbody>\n",
       "    <tr>\n",
       "      <th>0</th>\n",
       "      <td>3</td>\n",
       "      <td>male</td>\n",
       "      <td>22.0</td>\n",
       "      <td>1</td>\n",
       "      <td>0</td>\n",
       "      <td>7.2500</td>\n",
       "      <td>S</td>\n",
       "      <td>0</td>\n",
       "    </tr>\n",
       "    <tr>\n",
       "      <th>1</th>\n",
       "      <td>1</td>\n",
       "      <td>female</td>\n",
       "      <td>38.0</td>\n",
       "      <td>1</td>\n",
       "      <td>0</td>\n",
       "      <td>71.2833</td>\n",
       "      <td>C</td>\n",
       "      <td>1</td>\n",
       "    </tr>\n",
       "    <tr>\n",
       "      <th>2</th>\n",
       "      <td>3</td>\n",
       "      <td>female</td>\n",
       "      <td>26.0</td>\n",
       "      <td>0</td>\n",
       "      <td>0</td>\n",
       "      <td>7.9250</td>\n",
       "      <td>S</td>\n",
       "      <td>1</td>\n",
       "    </tr>\n",
       "    <tr>\n",
       "      <th>3</th>\n",
       "      <td>1</td>\n",
       "      <td>female</td>\n",
       "      <td>35.0</td>\n",
       "      <td>1</td>\n",
       "      <td>0</td>\n",
       "      <td>53.1000</td>\n",
       "      <td>S</td>\n",
       "      <td>1</td>\n",
       "    </tr>\n",
       "    <tr>\n",
       "      <th>4</th>\n",
       "      <td>3</td>\n",
       "      <td>male</td>\n",
       "      <td>35.0</td>\n",
       "      <td>0</td>\n",
       "      <td>0</td>\n",
       "      <td>8.0500</td>\n",
       "      <td>S</td>\n",
       "      <td>0</td>\n",
       "    </tr>\n",
       "    <tr>\n",
       "      <th>...</th>\n",
       "      <td>...</td>\n",
       "      <td>...</td>\n",
       "      <td>...</td>\n",
       "      <td>...</td>\n",
       "      <td>...</td>\n",
       "      <td>...</td>\n",
       "      <td>...</td>\n",
       "      <td>...</td>\n",
       "    </tr>\n",
       "    <tr>\n",
       "      <th>794</th>\n",
       "      <td>3</td>\n",
       "      <td>male</td>\n",
       "      <td>25.0</td>\n",
       "      <td>0</td>\n",
       "      <td>0</td>\n",
       "      <td>7.8958</td>\n",
       "      <td>S</td>\n",
       "      <td>0</td>\n",
       "    </tr>\n",
       "    <tr>\n",
       "      <th>795</th>\n",
       "      <td>2</td>\n",
       "      <td>male</td>\n",
       "      <td>39.0</td>\n",
       "      <td>0</td>\n",
       "      <td>0</td>\n",
       "      <td>13.0000</td>\n",
       "      <td>S</td>\n",
       "      <td>0</td>\n",
       "    </tr>\n",
       "    <tr>\n",
       "      <th>796</th>\n",
       "      <td>1</td>\n",
       "      <td>female</td>\n",
       "      <td>49.0</td>\n",
       "      <td>0</td>\n",
       "      <td>0</td>\n",
       "      <td>25.9292</td>\n",
       "      <td>S</td>\n",
       "      <td>1</td>\n",
       "    </tr>\n",
       "    <tr>\n",
       "      <th>797</th>\n",
       "      <td>3</td>\n",
       "      <td>female</td>\n",
       "      <td>31.0</td>\n",
       "      <td>0</td>\n",
       "      <td>0</td>\n",
       "      <td>8.6833</td>\n",
       "      <td>S</td>\n",
       "      <td>1</td>\n",
       "    </tr>\n",
       "    <tr>\n",
       "      <th>798</th>\n",
       "      <td>3</td>\n",
       "      <td>male</td>\n",
       "      <td>30.0</td>\n",
       "      <td>0</td>\n",
       "      <td>0</td>\n",
       "      <td>7.2292</td>\n",
       "      <td>C</td>\n",
       "      <td>0</td>\n",
       "    </tr>\n",
       "  </tbody>\n",
       "</table>\n",
       "<p>799 rows × 8 columns</p>\n",
       "</div>"
      ],
      "text/plain": [
       "     Pclass     Sex   Age  SibSp  Parch     Fare Embarked  Survived\n",
       "0         3    male  22.0      1      0   7.2500        S         0\n",
       "1         1  female  38.0      1      0  71.2833        C         1\n",
       "2         3  female  26.0      0      0   7.9250        S         1\n",
       "3         1  female  35.0      1      0  53.1000        S         1\n",
       "4         3    male  35.0      0      0   8.0500        S         0\n",
       "..      ...     ...   ...    ...    ...      ...      ...       ...\n",
       "794       3    male  25.0      0      0   7.8958        S         0\n",
       "795       2    male  39.0      0      0  13.0000        S         0\n",
       "796       1  female  49.0      0      0  25.9292        S         1\n",
       "797       3  female  31.0      0      0   8.6833        S         1\n",
       "798       3    male  30.0      0      0   7.2292        C         0\n",
       "\n",
       "[799 rows x 8 columns]"
      ]
     },
     "execution_count": 427,
     "metadata": {},
     "output_type": "execute_result"
    }
   ],
   "source": [
    "# 사용할 feature만 추려낸 dataframe을 만듭니다.\n",
    "train_new=train[['Pclass','Sex','Age','SibSp','Parch','Fare','Embarked','Survived']].copy()\n",
    "test_new=test[['Pclass','Sex','Age','SibSp','Parch','Fare','Embarked']].copy()\n",
    "train_new"
   ]
  },
  {
   "cell_type": "code",
   "execution_count": 455,
   "id": "dae39709-b0d0-4f2f-817f-a35c8cfc5f65",
   "metadata": {
    "execution": {
     "iopub.execute_input": "2024-11-13T15:19:05.804433Z",
     "iopub.status.busy": "2024-11-13T15:19:05.804433Z",
     "iopub.status.idle": "2024-11-13T15:19:05.870669Z",
     "shell.execute_reply": "2024-11-13T15:19:05.869208Z",
     "shell.execute_reply.started": "2024-11-13T15:19:05.804433Z"
    }
   },
   "outputs": [],
   "source": [
    "# Sex에 대해서 male과 female을 각각 0과 1로 변환해줍니다.\n",
    "sex_mapping = {\n",
    "    'male': 0,\n",
    "    'female': 1\n",
    "    }\n",
    "train_new.loc[:,'Sex']=train_new['Sex'].replace(sex_mapping)\n",
    "test_new.loc[:,'Sex']=train_new['Sex'].replace(sex_mapping)\n",
    "\n",
    "# Age에 대해서 nan는 0으로 바꿔두고 값을 모두 정수로 바꿉니다.\n",
    "# 0은 Age의 평균으로 대체합니다.\n",
    "# test set에서는 일반화를 위해 train set의 age 평균으로 대체합니다.\n",
    "train_new['Age'].replace(np.nan, 0, inplace=True)\n",
    "train_new['Age']=train_new['Age'].astype('int64')\n",
    "train_new['Age'].replace(0, np.mean(train_new['Age']), inplace=True)\n",
    "train_new['Age']=train_new['Age'].astype('int64')\n",
    "\n",
    "test_new['Age'].replace(np.nan, 0, inplace=True)\n",
    "test_new['Age']=test_new['Age'].astype('int64')\n",
    "test_new['Age'].replace(0, np.mean(train_new['Age']), inplace=True)\n",
    "test_new['Age']=test_new['Age'].astype('int64')\n",
    "\n",
    "# Embarked에 대해서 nan값을 mode로 바꿉니다.\n",
    "# test set에서는 일반화를 위해 train set의 mode로 대체합니다.\n",
    "# 이후 One-hot encoding을 수행합니다.\n",
    "train_new['Embarked'].replace(np.nan, train_new['Embarked'].mode()[0], inplace=True)\n",
    "test_new['Embarked'].replace(np.nan, train_new['Embarked'].mode()[0], inplace=True)\n",
    "\n",
    "from sklearn.preprocessing import OneHotEncoder\n",
    "encoder=OneHotEncoder(sparse_output=False,drop='first')\n",
    "encoder.fit(train_new[['Embarked']])\n",
    "\n",
    "train_encoded=encoder.transform(train_new[['Embarked']])\n",
    "train_encoded_df=pd.DataFrame(train_encoded, columns='Embarked_'+encoder.categories_[0][1:])\n",
    "train_last=pd.concat([train_new,train_encoded_df], axis=1)\n",
    "train_last.drop('Embarked', axis=1, inplace=True)\n",
    "\n",
    "test_encoded=encoder.transform(test_new[['Embarked']])\n",
    "test_encoded_df=pd.DataFrame(test_encoded, columns='Embarked_'+encoder.categories_[0][1:])\n",
    "test_last=pd.concat([test_new,test_encoded_df], axis=1)\n",
    "test_last.drop('Embarked', axis=1, inplace=True)"
   ]
  },
  {
   "cell_type": "code",
   "execution_count": 451,
   "id": "43b375c1-968b-469e-b26f-5b5f2c9e01de",
   "metadata": {
    "execution": {
     "iopub.execute_input": "2024-11-13T15:18:46.924092Z",
     "iopub.status.busy": "2024-11-13T15:18:46.924092Z",
     "iopub.status.idle": "2024-11-13T15:18:47.002087Z",
     "shell.execute_reply": "2024-11-13T15:18:46.997614Z",
     "shell.execute_reply.started": "2024-11-13T15:18:46.924092Z"
    }
   },
   "outputs": [
    {
     "data": {
      "text/html": [
       "<div>\n",
       "<style scoped>\n",
       "    .dataframe tbody tr th:only-of-type {\n",
       "        vertical-align: middle;\n",
       "    }\n",
       "\n",
       "    .dataframe tbody tr th {\n",
       "        vertical-align: top;\n",
       "    }\n",
       "\n",
       "    .dataframe thead th {\n",
       "        text-align: right;\n",
       "    }\n",
       "</style>\n",
       "<table border=\"1\" class=\"dataframe\">\n",
       "  <thead>\n",
       "    <tr style=\"text-align: right;\">\n",
       "      <th></th>\n",
       "      <th>Pclass</th>\n",
       "      <th>Sex</th>\n",
       "      <th>Age</th>\n",
       "      <th>SibSp</th>\n",
       "      <th>Parch</th>\n",
       "      <th>Fare</th>\n",
       "      <th>Survived</th>\n",
       "      <th>Embarked_Q</th>\n",
       "      <th>Embarked_S</th>\n",
       "    </tr>\n",
       "  </thead>\n",
       "  <tbody>\n",
       "    <tr>\n",
       "      <th>0</th>\n",
       "      <td>3</td>\n",
       "      <td>0</td>\n",
       "      <td>22</td>\n",
       "      <td>1</td>\n",
       "      <td>0</td>\n",
       "      <td>7.2500</td>\n",
       "      <td>0</td>\n",
       "      <td>0.0</td>\n",
       "      <td>1.0</td>\n",
       "    </tr>\n",
       "    <tr>\n",
       "      <th>1</th>\n",
       "      <td>1</td>\n",
       "      <td>1</td>\n",
       "      <td>38</td>\n",
       "      <td>1</td>\n",
       "      <td>0</td>\n",
       "      <td>71.2833</td>\n",
       "      <td>1</td>\n",
       "      <td>0.0</td>\n",
       "      <td>0.0</td>\n",
       "    </tr>\n",
       "    <tr>\n",
       "      <th>2</th>\n",
       "      <td>3</td>\n",
       "      <td>1</td>\n",
       "      <td>26</td>\n",
       "      <td>0</td>\n",
       "      <td>0</td>\n",
       "      <td>7.9250</td>\n",
       "      <td>1</td>\n",
       "      <td>0.0</td>\n",
       "      <td>1.0</td>\n",
       "    </tr>\n",
       "    <tr>\n",
       "      <th>3</th>\n",
       "      <td>1</td>\n",
       "      <td>1</td>\n",
       "      <td>35</td>\n",
       "      <td>1</td>\n",
       "      <td>0</td>\n",
       "      <td>53.1000</td>\n",
       "      <td>1</td>\n",
       "      <td>0.0</td>\n",
       "      <td>1.0</td>\n",
       "    </tr>\n",
       "    <tr>\n",
       "      <th>4</th>\n",
       "      <td>3</td>\n",
       "      <td>0</td>\n",
       "      <td>35</td>\n",
       "      <td>0</td>\n",
       "      <td>0</td>\n",
       "      <td>8.0500</td>\n",
       "      <td>0</td>\n",
       "      <td>0.0</td>\n",
       "      <td>1.0</td>\n",
       "    </tr>\n",
       "    <tr>\n",
       "      <th>...</th>\n",
       "      <td>...</td>\n",
       "      <td>...</td>\n",
       "      <td>...</td>\n",
       "      <td>...</td>\n",
       "      <td>...</td>\n",
       "      <td>...</td>\n",
       "      <td>...</td>\n",
       "      <td>...</td>\n",
       "      <td>...</td>\n",
       "    </tr>\n",
       "    <tr>\n",
       "      <th>794</th>\n",
       "      <td>3</td>\n",
       "      <td>0</td>\n",
       "      <td>25</td>\n",
       "      <td>0</td>\n",
       "      <td>0</td>\n",
       "      <td>7.8958</td>\n",
       "      <td>0</td>\n",
       "      <td>0.0</td>\n",
       "      <td>1.0</td>\n",
       "    </tr>\n",
       "    <tr>\n",
       "      <th>795</th>\n",
       "      <td>2</td>\n",
       "      <td>0</td>\n",
       "      <td>39</td>\n",
       "      <td>0</td>\n",
       "      <td>0</td>\n",
       "      <td>13.0000</td>\n",
       "      <td>0</td>\n",
       "      <td>0.0</td>\n",
       "      <td>1.0</td>\n",
       "    </tr>\n",
       "    <tr>\n",
       "      <th>796</th>\n",
       "      <td>1</td>\n",
       "      <td>1</td>\n",
       "      <td>49</td>\n",
       "      <td>0</td>\n",
       "      <td>0</td>\n",
       "      <td>25.9292</td>\n",
       "      <td>1</td>\n",
       "      <td>0.0</td>\n",
       "      <td>1.0</td>\n",
       "    </tr>\n",
       "    <tr>\n",
       "      <th>797</th>\n",
       "      <td>3</td>\n",
       "      <td>1</td>\n",
       "      <td>31</td>\n",
       "      <td>0</td>\n",
       "      <td>0</td>\n",
       "      <td>8.6833</td>\n",
       "      <td>1</td>\n",
       "      <td>0.0</td>\n",
       "      <td>1.0</td>\n",
       "    </tr>\n",
       "    <tr>\n",
       "      <th>798</th>\n",
       "      <td>3</td>\n",
       "      <td>0</td>\n",
       "      <td>30</td>\n",
       "      <td>0</td>\n",
       "      <td>0</td>\n",
       "      <td>7.2292</td>\n",
       "      <td>0</td>\n",
       "      <td>0.0</td>\n",
       "      <td>0.0</td>\n",
       "    </tr>\n",
       "  </tbody>\n",
       "</table>\n",
       "<p>799 rows × 9 columns</p>\n",
       "</div>"
      ],
      "text/plain": [
       "     Pclass Sex  Age  SibSp  Parch     Fare  Survived  Embarked_Q  Embarked_S\n",
       "0         3   0   22      1      0   7.2500         0         0.0         1.0\n",
       "1         1   1   38      1      0  71.2833         1         0.0         0.0\n",
       "2         3   1   26      0      0   7.9250         1         0.0         1.0\n",
       "3         1   1   35      1      0  53.1000         1         0.0         1.0\n",
       "4         3   0   35      0      0   8.0500         0         0.0         1.0\n",
       "..      ...  ..  ...    ...    ...      ...       ...         ...         ...\n",
       "794       3   0   25      0      0   7.8958         0         0.0         1.0\n",
       "795       2   0   39      0      0  13.0000         0         0.0         1.0\n",
       "796       1   1   49      0      0  25.9292         1         0.0         1.0\n",
       "797       3   1   31      0      0   8.6833         1         0.0         1.0\n",
       "798       3   0   30      0      0   7.2292         0         0.0         0.0\n",
       "\n",
       "[799 rows x 9 columns]"
      ]
     },
     "execution_count": 451,
     "metadata": {},
     "output_type": "execute_result"
    }
   ],
   "source": [
    "# feature engineering 이후의 train data\n",
    "train_last"
   ]
  },
  {
   "cell_type": "code",
   "execution_count": 453,
   "id": "5c82bf73-eab1-4f89-a320-841885c86dd7",
   "metadata": {
    "execution": {
     "iopub.execute_input": "2024-11-13T15:18:49.021255Z",
     "iopub.status.busy": "2024-11-13T15:18:49.019476Z",
     "iopub.status.idle": "2024-11-13T15:18:49.065375Z",
     "shell.execute_reply": "2024-11-13T15:18:49.064059Z",
     "shell.execute_reply.started": "2024-11-13T15:18:49.021255Z"
    }
   },
   "outputs": [
    {
     "data": {
      "text/html": [
       "<div>\n",
       "<style scoped>\n",
       "    .dataframe tbody tr th:only-of-type {\n",
       "        vertical-align: middle;\n",
       "    }\n",
       "\n",
       "    .dataframe tbody tr th {\n",
       "        vertical-align: top;\n",
       "    }\n",
       "\n",
       "    .dataframe thead th {\n",
       "        text-align: right;\n",
       "    }\n",
       "</style>\n",
       "<table border=\"1\" class=\"dataframe\">\n",
       "  <thead>\n",
       "    <tr style=\"text-align: right;\">\n",
       "      <th></th>\n",
       "      <th>Pclass</th>\n",
       "      <th>Sex</th>\n",
       "      <th>Age</th>\n",
       "      <th>SibSp</th>\n",
       "      <th>Parch</th>\n",
       "      <th>Fare</th>\n",
       "      <th>Embarked_Q</th>\n",
       "      <th>Embarked_S</th>\n",
       "    </tr>\n",
       "  </thead>\n",
       "  <tbody>\n",
       "    <tr>\n",
       "      <th>0</th>\n",
       "      <td>3</td>\n",
       "      <td>0</td>\n",
       "      <td>30</td>\n",
       "      <td>1</td>\n",
       "      <td>1</td>\n",
       "      <td>24.1500</td>\n",
       "      <td>0.0</td>\n",
       "      <td>1.0</td>\n",
       "    </tr>\n",
       "    <tr>\n",
       "      <th>1</th>\n",
       "      <td>2</td>\n",
       "      <td>1</td>\n",
       "      <td>34</td>\n",
       "      <td>0</td>\n",
       "      <td>0</td>\n",
       "      <td>13.0000</td>\n",
       "      <td>0.0</td>\n",
       "      <td>1.0</td>\n",
       "    </tr>\n",
       "    <tr>\n",
       "      <th>2</th>\n",
       "      <td>2</td>\n",
       "      <td>1</td>\n",
       "      <td>31</td>\n",
       "      <td>1</td>\n",
       "      <td>1</td>\n",
       "      <td>26.2500</td>\n",
       "      <td>0.0</td>\n",
       "      <td>1.0</td>\n",
       "    </tr>\n",
       "    <tr>\n",
       "      <th>3</th>\n",
       "      <td>1</td>\n",
       "      <td>1</td>\n",
       "      <td>11</td>\n",
       "      <td>1</td>\n",
       "      <td>2</td>\n",
       "      <td>120.0000</td>\n",
       "      <td>0.0</td>\n",
       "      <td>1.0</td>\n",
       "    </tr>\n",
       "    <tr>\n",
       "      <th>4</th>\n",
       "      <td>3</td>\n",
       "      <td>0</td>\n",
       "      <td>28</td>\n",
       "      <td>0</td>\n",
       "      <td>1</td>\n",
       "      <td>8.5167</td>\n",
       "      <td>0.0</td>\n",
       "      <td>0.0</td>\n",
       "    </tr>\n",
       "    <tr>\n",
       "      <th>...</th>\n",
       "      <td>...</td>\n",
       "      <td>...</td>\n",
       "      <td>...</td>\n",
       "      <td>...</td>\n",
       "      <td>...</td>\n",
       "      <td>...</td>\n",
       "      <td>...</td>\n",
       "      <td>...</td>\n",
       "    </tr>\n",
       "    <tr>\n",
       "      <th>87</th>\n",
       "      <td>2</td>\n",
       "      <td>0</td>\n",
       "      <td>27</td>\n",
       "      <td>0</td>\n",
       "      <td>0</td>\n",
       "      <td>13.0000</td>\n",
       "      <td>0.0</td>\n",
       "      <td>1.0</td>\n",
       "    </tr>\n",
       "    <tr>\n",
       "      <th>88</th>\n",
       "      <td>1</td>\n",
       "      <td>1</td>\n",
       "      <td>19</td>\n",
       "      <td>0</td>\n",
       "      <td>0</td>\n",
       "      <td>30.0000</td>\n",
       "      <td>0.0</td>\n",
       "      <td>1.0</td>\n",
       "    </tr>\n",
       "    <tr>\n",
       "      <th>89</th>\n",
       "      <td>3</td>\n",
       "      <td>0</td>\n",
       "      <td>28</td>\n",
       "      <td>1</td>\n",
       "      <td>2</td>\n",
       "      <td>23.4500</td>\n",
       "      <td>0.0</td>\n",
       "      <td>1.0</td>\n",
       "    </tr>\n",
       "    <tr>\n",
       "      <th>90</th>\n",
       "      <td>1</td>\n",
       "      <td>0</td>\n",
       "      <td>26</td>\n",
       "      <td>0</td>\n",
       "      <td>0</td>\n",
       "      <td>30.0000</td>\n",
       "      <td>0.0</td>\n",
       "      <td>0.0</td>\n",
       "    </tr>\n",
       "    <tr>\n",
       "      <th>91</th>\n",
       "      <td>3</td>\n",
       "      <td>0</td>\n",
       "      <td>32</td>\n",
       "      <td>0</td>\n",
       "      <td>0</td>\n",
       "      <td>7.7500</td>\n",
       "      <td>1.0</td>\n",
       "      <td>0.0</td>\n",
       "    </tr>\n",
       "  </tbody>\n",
       "</table>\n",
       "<p>92 rows × 8 columns</p>\n",
       "</div>"
      ],
      "text/plain": [
       "    Pclass Sex  Age  SibSp  Parch      Fare  Embarked_Q  Embarked_S\n",
       "0        3   0   30      1      1   24.1500         0.0         1.0\n",
       "1        2   1   34      0      0   13.0000         0.0         1.0\n",
       "2        2   1   31      1      1   26.2500         0.0         1.0\n",
       "3        1   1   11      1      2  120.0000         0.0         1.0\n",
       "4        3   0   28      0      1    8.5167         0.0         0.0\n",
       "..     ...  ..  ...    ...    ...       ...         ...         ...\n",
       "87       2   0   27      0      0   13.0000         0.0         1.0\n",
       "88       1   1   19      0      0   30.0000         0.0         1.0\n",
       "89       3   0   28      1      2   23.4500         0.0         1.0\n",
       "90       1   0   26      0      0   30.0000         0.0         0.0\n",
       "91       3   0   32      0      0    7.7500         1.0         0.0\n",
       "\n",
       "[92 rows x 8 columns]"
      ]
     },
     "execution_count": 453,
     "metadata": {},
     "output_type": "execute_result"
    }
   ],
   "source": [
    "# feature engineering 이후의 test data\n",
    "test_last"
   ]
  },
  {
   "cell_type": "code",
   "execution_count": 527,
   "id": "940660ae-936a-4ffb-ab62-666152a98e8e",
   "metadata": {
    "execution": {
     "iopub.execute_input": "2024-11-13T15:47:42.659258Z",
     "iopub.status.busy": "2024-11-13T15:47:42.658126Z",
     "iopub.status.idle": "2024-11-13T15:47:43.487782Z",
     "shell.execute_reply": "2024-11-13T15:47:43.486669Z",
     "shell.execute_reply.started": "2024-11-13T15:47:42.659258Z"
    }
   },
   "outputs": [
    {
     "name": "stdout",
     "output_type": "stream",
     "text": [
      "training set 기준의 모델 성능 측정 결과\n",
      "\n",
      "accuracy score: 0.7985\n",
      "precision: 0.7692\n",
      "recall: 0.6818\n",
      "F-score: 0.7229\n",
      "*Survived가 1인 값을 positive로 설정\n"
     ]
    }
   ],
   "source": [
    "# (c)\n",
    "from sklearn.linear_model import LogisticRegression\n",
    "from sklearn.metrics import accuracy_score\n",
    "from sklearn.metrics import precision_recall_fscore_support\n",
    "\n",
    "y_train=train_last['Survived'].copy()\n",
    "X_train=train_last.drop('Survived', axis=1).copy()\n",
    "X_test=test_last.copy()\n",
    "\n",
    "clf=LogisticRegression(penalty=None,solver='sag',random_state=0,max_iter=100000)\n",
    "clf.fit(X_train,y_train)\n",
    "y_train_pred=clf.predict(X_train)\n",
    "accuracy_score_train=accuracy_score(y_train,y_train_pred)\n",
    "precision,recall,fscore,support=precision_recall_fscore_support(y_train,y_train_pred)\n",
    "print('training set 기준의 모델 성능 측정 결과')\n",
    "print()\n",
    "print(f'accuracy score: {np.round(accuracy_score_train,4)}')\n",
    "print(f'precision: {np.round(precision[1],4)}')\n",
    "print(f'recall: {np.round(recall[1],4)}')\n",
    "print(f'F-score: {np.round(fscore[1],4)}')\n",
    "print('*Survived가 1인 값을 positive로 설정')"
   ]
  },
  {
   "cell_type": "code",
   "execution_count": 529,
   "id": "80dd3083-b0dc-4240-987e-377cba6b56e8",
   "metadata": {
    "execution": {
     "iopub.execute_input": "2024-11-13T15:48:32.242092Z",
     "iopub.status.busy": "2024-11-13T15:48:32.241580Z",
     "iopub.status.idle": "2024-11-13T15:48:32.264914Z",
     "shell.execute_reply": "2024-11-13T15:48:32.264914Z",
     "shell.execute_reply.started": "2024-11-13T15:48:32.242092Z"
    }
   },
   "outputs": [
    {
     "data": {
      "text/plain": [
       "array([0, 1, 1, 1, 0, 0, 0, 0, 1, 1, 1, 1, 0, 0, 0, 1, 0, 0, 1, 1, 0, 0,\n",
       "       1, 0, 1, 0, 0, 0, 1, 0, 0, 1, 1, 0, 0, 0, 0, 0, 1, 1, 1, 1, 0, 1,\n",
       "       1, 0, 0, 0, 0, 1, 0, 0, 0, 1, 0, 0, 1, 0, 1, 0, 0, 0, 0, 0, 0, 0,\n",
       "       1, 0, 1, 0, 0, 1, 0, 0, 0, 0, 0, 0, 0, 1, 0, 0, 1, 0, 1, 1, 0, 0,\n",
       "       1, 0, 0, 0], dtype=int64)"
      ]
     },
     "execution_count": 529,
     "metadata": {},
     "output_type": "execute_result"
    }
   ],
   "source": [
    "# (d)\n",
    "y_test_pred=clf.predict(X_test)\n",
    "y_test_pred"
   ]
  }
 ],
 "metadata": {
  "kernelspec": {
   "display_name": "python38",
   "language": "python",
   "name": "python38"
  },
  "language_info": {
   "codemirror_mode": {
    "name": "ipython",
    "version": 3
   },
   "file_extension": ".py",
   "mimetype": "text/x-python",
   "name": "python",
   "nbconvert_exporter": "python",
   "pygments_lexer": "ipython3",
   "version": "3.8.19"
  }
 },
 "nbformat": 4,
 "nbformat_minor": 5
}
